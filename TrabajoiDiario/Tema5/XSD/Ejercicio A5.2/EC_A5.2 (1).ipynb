{
 "cells": [
  {
   "cell_type": "markdown",
   "metadata": {},
   "source": [
    "# Ejercicios clase. A5.2\n",
    "\n",
    "### Ejercicios XPath\n",
    "\n",
    "**Entrega**\n",
    "\n",
    "No hay que entregar nada. Se valorará positivamente la realización de los ejercicios y subida al repositorio del alumno. \n",
    "\n",
    "**Recursos**\n",
    "- Apuntes: Para la realización de estos ejercicios utilizar la documentación colgada en el aula virtual (moodle) de la asignatura.\n",
    "- [XML base ejercicio](../TE/res/movies_xpath.xml):  Utilizar este fichero XML para realizar las consultas."
   ]
  },
  {
   "cell_type": "markdown",
   "metadata": {},
   "source": [
    "### Ejercicios"
   ]
  },
  {
   "cell_type": "markdown",
   "metadata": {
    "vscode": {
     "languageId": "xml"
    }
   },
   "source": [
    "1. Selecciona el nodo documento"
   ]
  },
  {
   "cell_type": "code",
   "execution_count": null,
   "metadata": {
    "vscode": {
     "languageId": "xml"
    }
   },
   "outputs": [],
   "source": [
    "/"
   ]
  },
  {
   "cell_type": "code",
   "execution_count": null,
   "metadata": {
    "vscode": {
     "languageId": "xml"
    }
   },
   "outputs": [],
   "source": [
    "# Copia aquí el resultado de la consulta\n",
    "<movies>\n",
    "  <movie out=\"yes\" id=\"m0001\">\n",
    "      <name lang=\"en\">Jungle Cruise</name>\n",
    "      <release>2021-07-02</release>\n",
    "      <country>USA</country>\n",
    "      <imdb>7.0</imdb>\n",
    "      <boxoffice>600 M. USD</boxoffice>\n",
    "      <cast>\n",
    "          <actor id=\"a0001\">\n",
    "              <name gender=\"male\">Dwayne Johnson</name>\n",
    "              <age>49</age>\n",
    "          ...."
   ]
  },
  {
   "cell_type": "markdown",
   "metadata": {},
   "source": [
    "2. Selecciona el elemento raíz"
   ]
  },
  {
   "cell_type": "raw",
   "metadata": {
    "vscode": {
     "languageId": "xml"
    }
   },
   "source": [
    "/"
   ]
  },
  {
   "cell_type": "code",
   "execution_count": null,
   "metadata": {},
   "outputs": [],
   "source": [
    "<!-- Xml with movies -->\n",
    "<movies>\n",
    "    <movie out=\"yes\" id=\"m0001\">\n",
    "        <name lang=\"en\">Jungle Cruise</name>\n",
    "        <release>2021-07-02</release>\n",
    "        <country>USA</country>\n",
    "        <imdb>7.0</imdb>\n",
    "        <boxoffice>600 M. USD</boxoffice>\n",
    "        <cast>\n",
    "            <actor id=\"a0001\">\n",
    "                <name gender=\"male\">Dwayne Johnson</name>\n",
    "                <age>49</age>\n",
    "            </actor>\n",
    "            <actor id=\"a0002\">\n",
    "                <name gender=\"female\">Emily Blunt</name>\n",
    "                <age>38</age>\n",
    "            </actor>\n",
    "            <actor id=\"a0003\">\n",
    "                <name gender=\"male\">Jack Whitehall</name>\n",
    "                <age>33</age>\n",
    "            </actor>\n",
    "        </cast>\n",
    "    </movie>\n",
    "    <movie out=\"yes\" id=\"m0002\">\n",
    "        <name lang=\"en\">Antlers</name>\n",
    "        <release>2021-10-29</release>\n",
    "        <country>USA</country>\n",
    "        <imdb>6.4</imdb>\n",
    "        <boxoffice>19 M. USD</boxoffice>\n",
    "        <cast>\n",
    "            <actor id=\"a0004\">\n",
    "                <name gender=\"male\">Jesse Plemons</name>\n",
    "                <age>33</age>\n",
    "            </actor>\n",
    "            <actor id=\"a0005\">\n",
    "                <name gender=\"female\">Keri Russell</name>\n",
    "                <age>45</age>\n",
    "            </actor>\n",
    "            <actor id=\"a0006\">\n",
    "                <name gender=\"male\">Jeremy T. Thomas</name>\n",
    "                <age>15</age>\n",
    "            </actor>\n",
    "        </cast>\n",
    "    </movie>\n",
    "    <movie out=\"yes\" id=\"m0003\">\n",
    "        <name lang=\"en\">Spider Man No Way Home</name>\n",
    "        <release>2021-12-17</release>\n",
    "        <country>USA</country>\n",
    "        <imdb>8.8</imdb>\n",
    "        <boxoffice>1.5 B. USD</boxoffice>\n",
    "        <cast>\n",
    "            <actor id=\"a0007\">\n",
    "                <name gender=\"male\">Tom Holland</name>\n",
    "                <age>25</age>\n",
    "            </actor>\n",
    "            <actor id=\"a0008\">\n",
    "                <name gender=\"male\">Tobey Maguire</name>\n",
    "                <age>46</age>\n",
    "            </actor>\n",
    "            <actor id=\"a0009\">\n",
    "                <name gender=\"male\">Andrew Garfield</name>\n",
    "                <age>38</age>\n",
    "            </actor>\n",
    "        </cast>\n",
    "    </movie>\n",
    "    <movie out=\"yes\" id=\"m0004\">\n",
    "        <name lang=\"en\">Red Notice</name>\n",
    "        <release>2021-11-05</release>\n",
    "        <country>USA</country>\n",
    "        <imdb>6.3</imdb>\n",
    "        <boxoffice>450 M. USD</boxoffice>\n",
    "        <cast>\n",
    "            <actor id=\"a0001\">\n",
    "                <name gender=\"male\">Dwayne Johnson</name>\n",
    "                <age>49</age>\n",
    "            </actor>\n",
    "            <actor id=\"a0010\">\n",
    "                <name gender=\"male\">Ryan Reynolds</name>\n",
    "                <age>45</age>\n",
    "            </actor>\n",
    "            <actor id=\"a0011\">\n",
    "                <name gender=\"female\">Gal Gadot</name>\n",
    "                <age>36</age>\n",
    "            </actor>\n",
    "        </cast>\n",
    "    </movie>\n",
    "    <movie out=\"yes\" id=\"m0005\">\n",
    "        <name lang=\"en\">Army of Thieves</name>\n",
    "        <release>2021-10-29</release>\n",
    "        <country>USA</country>\n",
    "        <imdb>6.4</imdb>\n",
    "        <boxoffice>300 M. USD</boxoffice>\n",
    "        <cast>\n",
    "            <actor id=\"a0012\">\n",
    "                <name gender=\"male\">Matthias Schweighöfer</name>\n",
    "                <age>40</age>\n",
    "            </actor>\n",
    "            <actor id=\"a0013\">\n",
    "                <name gender=\"female\">Nathalie Emmanuel</name>\n",
    "                <age>32</age>\n",
    "            </actor>\n",
    "            <actor id=\"a0014\">\n",
    "                <name gender=\"female\">Ruby O. Fee</name>\n",
    "                <age>25</age>\n",
    "            </actor>\n",
    "        </cast>\n",
    "    </movie>\n",
    "    <movie out=\"yes\" id=\"m0006\">\n",
    "        <name lang=\"hi\">Shershaah</name>\n",
    "        <release>2021-08-12</release>\n",
    "        <country>India</country>\n",
    "        <imdb>8.7</imdb>\n",
    "        <boxoffice>30 M. USD</boxoffice>\n",
    "        <cast>\n",
    "            <actor id=\"a0015\">\n",
    "                <name gender=\"male\">Sidharth Malhotra</name>\n",
    "                <age>37</age>\n",
    "            </actor>\n",
    "            <actor id=\"a0016\">\n",
    "                <name gender=\"female\">Kiara Advani</name>\n",
    "                <age>29</age>\n",
    "            </actor>\n",
    "            <actor id=\"a0017\">\n",
    "                <name gender=\"female\">Shiv Panditt</name>\n",
    "                <age>37</age>\n",
    "            </actor>\n",
    "        </cast>\n",
    "    </movie>\n",
    "    <movie out=\"yes\" id=\"m0007\">\n",
    "        <name lang=\"hi\">Roohi</name>\n",
    "        <release>2021-03-11</release>\n",
    "        <country>India</country>\n",
    "        <imdb>4.3</imdb>\n",
    "        <boxoffice>15 M. USD</boxoffice>\n",
    "        <cast>\n",
    "            <actor id=\"a0018\">\n",
    "                <name gender=\"male\">Rajkummar Rao</name>\n",
    "                <age>37</age>\n",
    "            </actor>\n",
    "            <actor id=\"a0019\">\n",
    "                <name gender=\"female\">Janhvi Kapoor</name>\n",
    "                <age>24</age>\n",
    "            </actor>\n",
    "            <actor id=\"a0020\">\n",
    "                <name gender=\"male\">Varun Sharma</name>\n",
    "                <age>31</age>\n",
    "            </actor>\n",
    "        </cast>\n",
    "    </movie>\n",
    "    <movie out=\"yes\" id=\"m0008\">\n",
    "        <name lang=\"ta\">Karnan</name>\n",
    "        <release>2021-04-09</release>\n",
    "        <country>India</country>\n",
    "        <imdb>8.2</imdb>\n",
    "        <boxoffice>14 M. USD</boxoffice>\n",
    "        <cast>\n",
    "            <actor id=\"a0021\">\n",
    "                <name gender=\"male\">Dhanush</name>\n",
    "                <age>38</age>\n",
    "            </actor>\n",
    "            <actor id=\"a0022\">\n",
    "                <name gender=\"female\">Rajisha Vijayan</name>\n",
    "                <age>30</age>\n",
    "            </actor>\n",
    "            <actor id=\"a0023\">\n",
    "                <name gender=\"male\">Yogi Babu</name>\n",
    "                <age>36</age>\n",
    "            </actor>\n",
    "        </cast>\n",
    "    </movie>\n",
    "</movies>"
   ]
  },
  {
   "cell_type": "markdown",
   "metadata": {},
   "source": [
    "3. Selecciona todos los elementos `movie` que son hijos directos del elemento `movies`"
   ]
  },
  {
   "cell_type": "raw",
   "metadata": {
    "vscode": {
     "languageId": "xml"
    }
   },
   "source": [
    "/movies/movie"
   ]
  },
  {
   "cell_type": "code",
   "execution_count": null,
   "metadata": {},
   "outputs": [],
   "source": [
    "<movie out=\"yes\" id=\"m0001\">\n",
    "        <name lang=\"en\">Jungle Cruise</name>\n",
    "        <release>2021-07-02</release>\n",
    "        <country>USA</country>\n",
    "        <imdb>7.0</imdb>\n",
    "        <boxoffice>600 M. USD</boxoffice>\n",
    "        <cast>\n",
    "            <actor id=\"a0001\">\n",
    "                <name gender=\"male\">Dwayne Johnson</name>\n",
    "                <age>49</age>\n",
    "            </actor>\n",
    "            <actor id=\"a0002\">\n",
    "                <name gender=\"female\">Emily Blunt</name>\n",
    "                <age>38</age>\n",
    "            </actor>\n",
    "            <actor id=\"a0003\">\n",
    "                <name gender=\"male\">Jack Whitehall</name>\n",
    "                <age>33</age>\n",
    "            </actor>\n",
    "        </cast>\n",
    "    </movie>\n",
    "<movie out=\"yes\" id=\"m0002\">\n",
    "        <name lang=\"en\">Antlers</name>\n",
    "        <release>2021-10-29</release>\n",
    "        <country>USA</country>\n",
    "        <imdb>6.4</imdb>\n",
    "        <boxoffice>19 M. USD</boxoffice>\n",
    "        <cast>\n",
    "            <actor id=\"a0004\">\n",
    "                <name gender=\"male\">Jesse Plemons</name>\n",
    "                <age>33</age>\n",
    "            </actor>\n",
    "            <actor id=\"a0005\">\n",
    "                <name gender=\"female\">Keri Russell</name>\n",
    "                <age>45</age>\n",
    "            </actor>\n",
    "            <actor id=\"a0006\">\n",
    "                <name gender=\"male\">Jeremy T. Thomas</name>\n",
    "                <age>15</age>\n",
    "            </actor>\n",
    "        </cast>\n",
    "    </movie>\n",
    "<movie out=\"yes\" id=\"m0003\">\n",
    "        <name lang=\"en\">Spider Man No Way Home</name>\n",
    "        <release>2021-12-17</release>\n",
    "        <country>USA</country>\n",
    "        <imdb>8.8</imdb>\n",
    "        <boxoffice>1.5 B. USD</boxoffice>\n",
    "        <cast>\n",
    "            <actor id=\"a0007\">\n",
    "                <name gender=\"male\">Tom Holland</name>\n",
    "                <age>25</age>\n",
    "            </actor>\n",
    "            <actor id=\"a0008\">\n",
    "                <name gender=\"male\">Tobey Maguire</name>\n",
    "                <age>46</age>\n",
    "            </actor>\n",
    "            <actor id=\"a0009\">\n",
    "                <name gender=\"male\">Andrew Garfield</name>\n",
    "                <age>38</age>\n",
    "            </actor>\n",
    "        </cast>\n",
    "    </movie>\n",
    "<movie out=\"yes\" id=\"m0004\">\n",
    "        <name lang=\"en\">Red Notice</name>\n",
    "        <release>2021-11-05</release>\n",
    "        <country>USA</country>\n",
    "        <imdb>6.3</imdb>\n",
    "        <boxoffice>450 M. USD</boxoffice>\n",
    "        <cast>\n",
    "            <actor id=\"a0001\">\n",
    "                <name gender=\"male\">Dwayne Johnson</name>\n",
    "                <age>49</age>\n",
    "            </actor>\n",
    "            <actor id=\"a0010\">\n",
    "                <name gender=\"male\">Ryan Reynolds</name>\n",
    "                <age>45</age>\n",
    "            </actor>\n",
    "            <actor id=\"a0011\">\n",
    "                <name gender=\"female\">Gal Gadot</name>\n",
    "                <age>36</age>\n",
    "            </actor>\n",
    "        </cast>\n",
    "    </movie>\n",
    "<movie out=\"yes\" id=\"m0005\">\n",
    "        <name lang=\"en\">Army of Thieves</name>\n",
    "        <release>2021-10-29</release>\n",
    "        <country>USA</country>\n",
    "        <imdb>6.4</imdb>\n",
    "        <boxoffice>300 M. USD</boxoffice>\n",
    "        <cast>\n",
    "            <actor id=\"a0012\">\n",
    "                <name gender=\"male\">Matthias Schweighöfer</name>\n",
    "                <age>40</age>\n",
    "            </actor>\n",
    "            <actor id=\"a0013\">\n",
    "                <name gender=\"female\">Nathalie Emmanuel</name>\n",
    "                <age>32</age>\n",
    "            </actor>\n",
    "            <actor id=\"a0014\">\n",
    "                <name gender=\"female\">Ruby O. Fee</name>\n",
    "                <age>25</age>\n",
    "            </actor>\n",
    "        </cast>\n",
    "    </movie>\n",
    "<movie out=\"yes\" id=\"m0006\">\n",
    "        <name lang=\"hi\">Shershaah</name>\n",
    "        <release>2021-08-12</release>\n",
    "        <country>India</country>\n",
    "        <imdb>8.7</imdb>\n",
    "        <boxoffice>30 M. USD</boxoffice>\n",
    "        <cast>\n",
    "            <actor id=\"a0015\">\n",
    "                <name gender=\"male\">Sidharth Malhotra</name>\n",
    "                <age>37</age>\n",
    "            </actor>\n",
    "            <actor id=\"a0016\">\n",
    "                <name gender=\"female\">Kiara Advani</name>\n",
    "                <age>29</age>\n",
    "            </actor>\n",
    "            <actor id=\"a0017\">\n",
    "                <name gender=\"female\">Shiv Panditt</name>\n",
    "                <age>37</age>\n",
    "            </actor>\n",
    "        </cast>\n",
    "    </movie>\n",
    "<movie out=\"yes\" id=\"m0007\">\n",
    "        <name lang=\"hi\">Roohi</name>\n",
    "        <release>2021-03-11</release>\n",
    "        <country>India</country>\n",
    "        <imdb>4.3</imdb>\n",
    "        <boxoffice>15 M. USD</boxoffice>\n",
    "        <cast>\n",
    "            <actor id=\"a0018\">\n",
    "                <name gender=\"male\">Rajkummar Rao</name>\n",
    "                <age>37</age>\n",
    "            </actor>\n",
    "            <actor id=\"a0019\">\n",
    "                <name gender=\"female\">Janhvi Kapoor</name>\n",
    "                <age>24</age>\n",
    "            </actor>\n",
    "            <actor id=\"a0020\">\n",
    "                <name gender=\"male\">Varun Sharma</name>\n",
    "                <age>31</age>\n",
    "            </actor>\n",
    "        </cast>\n",
    "    </movie>\n",
    "<movie out=\"yes\" id=\"m0008\">\n",
    "        <name lang=\"ta\">Karnan</name>\n",
    "        <release>2021-04-09</release>\n",
    "        <country>India</country>\n",
    "        <imdb>8.2</imdb>\n",
    "        <boxoffice>14 M. USD</boxoffice>\n",
    "        <cast>\n",
    "            <actor id=\"a0021\">\n",
    "                <name gender=\"male\">Dhanush</name>\n",
    "                <age>38</age>\n",
    "            </actor>\n",
    "            <actor id=\"a0022\">\n",
    "                <name gender=\"female\">Rajisha Vijayan</name>\n",
    "                <age>30</age>\n",
    "            </actor>\n",
    "            <actor id=\"a0023\">\n",
    "                <name gender=\"male\">Yogi Babu</name>\n",
    "                <age>36</age>\n",
    "            </actor>\n",
    "        </cast>\n",
    "    </movies>"
   ]
  },
  {
   "cell_type": "markdown",
   "metadata": {},
   "source": [
    "4. Selecciona todos los elementos dentro del documento"
   ]
  },
  {
   "cell_type": "raw",
   "metadata": {
    "vscode": {
     "languageId": "xml"
    }
   },
   "source": [
    "/*"
   ]
  },
  {
   "cell_type": "code",
   "execution_count": null,
   "metadata": {},
   "outputs": [],
   "source": [
    "<movies>\n",
    "    <movie out=\"yes\" id=\"m0001\">\n",
    "        <name lang=\"en\">Jungle Cruise</name>\n",
    "        <release>2021-07-02</release>\n",
    "        <country>USA</country>\n",
    "        <imdb>7.0</imdb>\n",
    "        <boxoffice>600 M. USD</boxoffice>\n",
    "        <cast>\n",
    "            <actor id=\"a0001\">\n",
    "                <name gender=\"male\">Dwayne Johnson</name>\n",
    "                <age>49</age>\n",
    "            </actor>\n",
    "            <actor id=\"a0002\">\n",
    "                <name gender=\"female\">Emily Blunt</name>\n",
    "                <age>38</age>\n",
    "            </actor>\n",
    "            <actor id=\"a0003\">\n",
    "                <name gender=\"male\">Jack Whitehall</name>\n",
    "                <age>33</age>\n",
    "            </actor>\n",
    "        </cast>\n",
    "    </movie>\n",
    "    <movie out=\"yes\" id=\"m0002\">\n",
    "        <name lang=\"en\">Antlers</name>\n",
    "        <release>2021-10-29</release>\n",
    "        <country>USA</country>\n",
    "        <imdb>6.4</imdb>\n",
    "        <boxoffice>19 M. USD</boxoffice>\n",
    "        <cast>\n",
    "            <actor id=\"a0004\">\n",
    "                <name gender=\"male\">Jesse Plemons</name>\n",
    "                <age>33</age>\n",
    "            </actor>\n",
    "            <actor id=\"a0005\">\n",
    "                <name gender=\"female\">Keri Russell</name>\n",
    "                <age>45</age>\n",
    "            </actor>\n",
    "            <actor id=\"a0006\">\n",
    "                <name gender=\"male\">Jeremy T. Thomas</name>\n",
    "                <age>15</age>\n",
    "            </actor>\n",
    "        </cast>\n",
    "    </movie>\n",
    "    <movie out=\"yes\" id=\"m0003\">\n",
    "        <name lang=\"en\">Spider Man No Way Home</name>\n",
    "        <release>2021-12-17</release>\n",
    "        <country>USA</country>\n",
    "        <imdb>8.8</imdb>\n",
    "        <boxoffice>1.5 B. USD</boxoffice>\n",
    "        <cast>\n",
    "            <actor id=\"a0007\">\n",
    "                <name gender=\"male\">Tom Holland</name>\n",
    "                <age>25</age>\n",
    "            </actor>\n",
    "            <actor id=\"a0008\">\n",
    "                <name gender=\"male\">Tobey Maguire</name>\n",
    "                <age>46</age>\n",
    "            </actor>\n",
    "            <actor id=\"a0009\">\n",
    "                <name gender=\"male\">Andrew Garfield</name>\n",
    "                <age>38</age>\n",
    "            </actor>\n",
    "        </cast>\n",
    "    </movie>\n",
    "    <movie out=\"yes\" id=\"m0004\">\n",
    "        <name lang=\"en\">Red Notice</name>\n",
    "        <release>2021-11-05</release>\n",
    "        <country>USA</country>\n",
    "        <imdb>6.3</imdb>\n",
    "        <boxoffice>450 M. USD</boxoffice>\n",
    "        <cast>\n",
    "            <actor id=\"a0001\">\n",
    "                <name gender=\"male\">Dwayne Johnson</name>\n",
    "                <age>49</age>\n",
    "            </actor>\n",
    "            <actor id=\"a0010\">\n",
    "                <name gender=\"male\">Ryan Reynolds</name>\n",
    "                <age>45</age>\n",
    "            </actor>\n",
    "            <actor id=\"a0011\">\n",
    "                <name gender=\"female\">Gal Gadot</name>\n",
    "                <age>36</age>\n",
    "            </actor>\n",
    "        </cast>\n",
    "    </movie>\n",
    "    <movie out=\"yes\" id=\"m0005\">\n",
    "        <name lang=\"en\">Army of Thieves</name>\n",
    "        <release>2021-10-29</release>\n",
    "        <country>USA</country>\n",
    "        <imdb>6.4</imdb>\n",
    "        <boxoffice>300 M. USD</boxoffice>\n",
    "        <cast>\n",
    "            <actor id=\"a0012\">\n",
    "                <name gender=\"male\">Matthias Schweighöfer</name>\n",
    "                <age>40</age>\n",
    "            </actor>\n",
    "            <actor id=\"a0013\">\n",
    "                <name gender=\"female\">Nathalie Emmanuel</name>\n",
    "                <age>32</age>\n",
    "            </actor>\n",
    "            <actor id=\"a0014\">\n",
    "                <name gender=\"female\">Ruby O. Fee</name>\n",
    "                <age>25</age>\n",
    "            </actor>\n",
    "        </cast>\n",
    "    </movie>\n",
    "    <movie out=\"yes\" id=\"m0006\">\n",
    "        <name lang=\"hi\">Shershaah</name>\n",
    "        <release>2021-08-12</release>\n",
    "        <country>India</country>\n",
    "        <imdb>8.7</imdb>\n",
    "        <boxoffice>30 M. USD</boxoffice>\n",
    "        <cast>\n",
    "            <actor id=\"a0015\">\n",
    "                <name gender=\"male\">Sidharth Malhotra</name>\n",
    "                <age>37</age>\n",
    "            </actor>\n",
    "            <actor id=\"a0016\">\n",
    "                <name gender=\"female\">Kiara Advani</name>\n",
    "                <age>29</age>\n",
    "            </actor>\n",
    "            <actor id=\"a0017\">\n",
    "                <name gender=\"female\">Shiv Panditt</name>\n",
    "                <age>37</age>\n",
    "            </actor>\n",
    "        </cast>\n",
    "    </movie>\n",
    "    <movie out=\"yes\" id=\"m0007\">\n",
    "        <name lang=\"hi\">Roohi</name>\n",
    "        <release>2021-03-11</release>\n",
    "        <country>India</country>\n",
    "        <imdb>4.3</imdb>\n",
    "        <boxoffice>15 M. USD</boxoffice>\n",
    "        <cast>\n",
    "            <actor id=\"a0018\">\n",
    "                <name gender=\"male\">Rajkummar Rao</name>\n",
    "                <age>37</age>\n",
    "            </actor>\n",
    "            <actor id=\"a0019\">\n",
    "                <name gender=\"female\">Janhvi Kapoor</name>\n",
    "                <age>24</age>\n",
    "            </actor>\n",
    "            <actor id=\"a0020\">\n",
    "                <name gender=\"male\">Varun Sharma</name>\n",
    "                <age>31</age>\n",
    "            </actor>\n",
    "        </cast>\n",
    "    </movie>\n",
    "    <movie out=\"yes\" id=\"m0008\">\n",
    "        <name lang=\"ta\">Karnan</name>\n",
    "        <release>2021-04-09</release>\n",
    "        <country>India</country>\n",
    "        <imdb>8.2</imdb>\n",
    "        <boxoffice>14 M. USD</boxoffice>\n",
    "        <cast>\n",
    "            <actor id=\"a0021\">\n",
    "                <name gender=\"male\">Dhanush</name>\n",
    "                <age>38</age>\n",
    "            </actor>\n",
    "            <actor id=\"a0022\">\n",
    "                <name gender=\"female\">Rajisha Vijayan</name>\n",
    "                <age>30</age>\n",
    "            </actor>\n",
    "            <actor id=\"a0023\">\n",
    "                <name gender=\"male\">Yogi Babu</name>\n",
    "                <age>36</age>\n",
    "            </actor>\n",
    "        </cast>\n",
    "    </movie>\n",
    "</movies>"
   ]
  },
  {
   "cell_type": "markdown",
   "metadata": {},
   "source": [
    "5. Selecciona todos los elementos `name` sin importar de su posición en el documento"
   ]
  },
  {
   "cell_type": "raw",
   "metadata": {
    "vscode": {
     "languageId": "xml"
    }
   },
   "source": [
    "//name"
   ]
  },
  {
   "cell_type": "code",
   "execution_count": null,
   "metadata": {},
   "outputs": [],
   "source": [
    "<name lang=\"en\">Jungle Cruise</name>\n",
    "<name gender=\"male\">Dwayne Johnson</name>\n",
    "<name gender=\"female\">Emily Blunt</name>\n",
    "<name gender=\"male\">Jack Whitehall</name>\n",
    "<name lang=\"en\">Antlers</name>\n",
    "<name gender=\"male\">Jesse Plemons</name>\n",
    "<name gender=\"female\">Keri Russell</name>\n",
    "<name gender=\"male\">Jeremy T. Thomas</name>\n",
    "<name lang=\"en\">Spider Man No Way Home</name>\n",
    "<name gender=\"male\">Tom Holland</name>\n",
    "<name gender=\"male\">Tobey Maguire</name>\n",
    "<name gender=\"male\">Andrew Garfield</name>\n",
    "<name lang=\"en\">Red Notice</name>\n",
    "<name gender=\"male\">Dwayne Johnson</name>\n",
    "<name gender=\"male\">Ryan Reynolds</name>\n",
    "<name gender=\"female\">Gal Gadot</name>\n",
    "<name lang=\"en\">Army of Thieves</name>\n",
    "<name gender=\"male\">Matthias Schweighöfer</name>\n",
    "<name gender=\"female\">Nathalie Emmanuel</name>\n",
    "<name gender=\"female\">Ruby O. Fee</name>\n",
    "<name lang=\"hi\">Shershaah</name>\n",
    "<name gender=\"male\">Sidharth Malhotra</name>\n",
    "<name gender=\"female\">Kiara Advani</name>\n",
    "<name gender=\"female\">Shiv Panditt</name>\n",
    "<name lang=\"hi\">Roohi</name>\n",
    "<name gender=\"male\">Rajkummar Rao</name>\n",
    "<name gender=\"female\">Janhvi Kapoor</name>\n",
    "<name gender=\"male\">Varun Sharma</name>\n",
    "<name lang=\"ta\">Karnan</name>\n",
    "<name gender=\"male\">Dhanush</name>\n",
    "<name gender=\"female\">Rajisha Vijayan</name>\n",
    "<name gender=\"male\">Yogi Babu</name>"
   ]
  },
  {
   "cell_type": "markdown",
   "metadata": {},
   "source": [
    "6. Selecciona el primer elemento `movie`"
   ]
  },
  {
   "cell_type": "raw",
   "metadata": {
    "vscode": {
     "languageId": "xml"
    }
   },
   "source": [
    "//movie[1]"
   ]
  },
  {
   "cell_type": "code",
   "execution_count": null,
   "metadata": {},
   "outputs": [],
   "source": [
    "<movie out=\"yes\" id=\"m0001\">\n",
    "        <name lang=\"en\">Jungle Cruise</name>\n",
    "        <release>2021-07-02</release>\n",
    "        <country>USA</country>\n",
    "        <imdb>7.0</imdb>\n",
    "        <boxoffice>600 M. USD</boxoffice>\n",
    "        <cast>\n",
    "            <actor id=\"a0001\">\n",
    "                <name gender=\"male\">Dwayne Johnson</name>\n",
    "                <age>49</age>\n",
    "            </actor>\n",
    "            <actor id=\"a0002\">\n",
    "                <name gender=\"female\">Emily Blunt</name>\n",
    "                <age>38</age>\n",
    "            </actor>\n",
    "            <actor id=\"a0003\">\n",
    "                <name gender=\"male\">Jack Whitehall</name>\n",
    "                <age>33</age>\n",
    "            </actor>\n",
    "        </cast>\n",
    "    </movie>"
   ]
  },
  {
   "cell_type": "markdown",
   "metadata": {},
   "source": [
    "7. Selecciona todos los hijos del elemento `cast` del quinto elemento `movie`"
   ]
  },
  {
   "cell_type": "raw",
   "metadata": {
    "vscode": {
     "languageId": "xml"
    }
   },
   "source": [
    "//movie[5]/cast/node()"
   ]
  },
  {
   "cell_type": "code",
   "execution_count": null,
   "metadata": {},
   "outputs": [],
   "source": [
    "<actor id=\"a0012\">\n",
    "                <name gender=\"male\">Matthias Schweighöfer</name>\n",
    "                <age>40</age>\n",
    "            </actor>\n",
    "\n",
    "            \n",
    "<actor id=\"a0013\">\n",
    "                <name gender=\"female\">Nathalie Emmanuel</name>\n",
    "                <age>32</age>\n",
    "            </actor>\n",
    "\n",
    "            \n",
    "<actor id=\"a0014\">\n",
    "                <name gender=\"female\">Ruby O. Fee</name>\n",
    "                <age>25</age>\n",
    "            </actor>\n"
   ]
  },
  {
   "cell_type": "markdown",
   "metadata": {},
   "source": [
    "8. Selecciona el último actor de cada película"
   ]
  },
  {
   "cell_type": "raw",
   "metadata": {
    "vscode": {
     "languageId": "xml"
    }
   },
   "source": [
    "//actor[last()]"
   ]
  },
  {
   "cell_type": "code",
   "execution_count": null,
   "metadata": {},
   "outputs": [],
   "source": [
    "<actor id=\"a0003\">\n",
    "                <name gender=\"male\">Jack Whitehall</name>\n",
    "                <age>33</age>\n",
    "            </actor>\n",
    "<actor id=\"a0006\">\n",
    "                <name gender=\"male\">Jeremy T. Thomas</name>\n",
    "                <age>15</age>\n",
    "            </actor>\n",
    "<actor id=\"a0009\">\n",
    "                <name gender=\"male\">Andrew Garfield</name>\n",
    "                <age>38</age>\n",
    "            </actor>\n",
    "<actor id=\"a0011\">\n",
    "                <name gender=\"female\">Gal Gadot</name>\n",
    "                <age>36</age>\n",
    "            </actor>\n",
    "<actor id=\"a0014\">\n",
    "                <name gender=\"female\">Ruby O. Fee</name>\n",
    "                <age>25</age>\n",
    "            </actor>\n",
    "<actor id=\"a0017\">\n",
    "                <name gender=\"female\">Shiv Panditt</name>\n",
    "                <age>37</age>\n",
    "            </actor>\n",
    "<actor id=\"a0020\">\n",
    "                <name gender=\"male\">Varun Sharma</name>\n",
    "                <age>31</age>\n",
    "            </actor>\n",
    "<actor id=\"a0023\">\n",
    "                <name gender=\"male\">Yogi Babu</name>\n",
    "                <age>36</age>\n",
    "            </actor>"
   ]
  },
  {
   "cell_type": "markdown",
   "metadata": {},
   "source": [
    "9. Selecciona los 3 primeros elementos `movies`"
   ]
  },
  {
   "cell_type": "raw",
   "metadata": {
    "vscode": {
     "languageId": "xml"
    }
   },
   "source": [
    "//movie[1]|//movie[2]|//movie[3]"
   ]
  },
  {
   "cell_type": "code",
   "execution_count": null,
   "metadata": {},
   "outputs": [],
   "source": [
    "<movie out=\"yes\" id=\"m0001\">\n",
    "        <name lang=\"en\">Jungle Cruise</name>\n",
    "        <release>2021-07-02</release>\n",
    "        <country>USA</country>\n",
    "        <imdb>7.0</imdb>\n",
    "        <boxoffice>600 M. USD</boxoffice>\n",
    "        <cast>\n",
    "            <actor id=\"a0001\">\n",
    "                <name gender=\"male\">Dwayne Johnson</name>\n",
    "                <age>49</age>\n",
    "            </actor>\n",
    "            <actor id=\"a0002\">\n",
    "                <name gender=\"female\">Emily Blunt</name>\n",
    "                <age>38</age>\n",
    "            </actor>\n",
    "            <actor id=\"a0003\">\n",
    "                <name gender=\"male\">Jack Whitehall</name>\n",
    "                <age>33</age>\n",
    "            </actor>\n",
    "        </cast>\n",
    "    </movie>\n",
    "<movie out=\"yes\" id=\"m0002\">\n",
    "        <name lang=\"en\">Antlers</name>\n",
    "        <release>2021-10-29</release>\n",
    "        <country>USA</country>\n",
    "        <imdb>6.4</imdb>\n",
    "        <boxoffice>19 M. USD</boxoffice>\n",
    "        <cast>\n",
    "            <actor id=\"a0004\">\n",
    "                <name gender=\"male\">Jesse Plemons</name>\n",
    "                <age>33</age>\n",
    "            </actor>\n",
    "            <actor id=\"a0005\">\n",
    "                <name gender=\"female\">Keri Russell</name>\n",
    "                <age>45</age>\n",
    "            </actor>\n",
    "            <actor id=\"a0006\">\n",
    "                <name gender=\"male\">Jeremy T. Thomas</name>\n",
    "                <age>15</age>\n",
    "            </actor>\n",
    "        </cast>\n",
    "    </movie>\n",
    "<movie out=\"yes\" id=\"m0003\">\n",
    "        <name lang=\"en\">Spider Man No Way Home</name>\n",
    "        <release>2021-12-17</release>\n",
    "        <country>USA</country>\n",
    "        <imdb>8.8</imdb>\n",
    "        <boxoffice>1.5 B. USD</boxoffice>\n",
    "        <cast>\n",
    "            <actor id=\"a0007\">\n",
    "                <name gender=\"male\">Tom Holland</name>\n",
    "                <age>25</age>\n",
    "            </actor>\n",
    "            <actor id=\"a0008\">\n",
    "                <name gender=\"male\">Tobey Maguire</name>\n",
    "                <age>46</age>\n",
    "            </actor>\n",
    "            <actor id=\"a0009\">\n",
    "                <name gender=\"male\">Andrew Garfield</name>\n",
    "                <age>38</age>\n",
    "            </actor>\n",
    "        </cast>\n",
    "    </movie>"
   ]
  },
  {
   "cell_type": "markdown",
   "metadata": {},
   "source": [
    "10. Selecciona el valor texto del elemento `Imdb` de todos los elementos `movie`"
   ]
  },
  {
   "cell_type": "raw",
   "metadata": {},
   "source": [
    "//imdb/text()"
   ]
  },
  {
   "cell_type": "code",
   "execution_count": null,
   "metadata": {},
   "outputs": [],
   "source": [
    "7.0\n",
    "6.4\n",
    "8.8\n",
    "6.3\n",
    "6.4\n",
    "8.7\n",
    "4.3\n",
    "8.2"
   ]
  },
  {
   "cell_type": "markdown",
   "metadata": {},
   "source": [
    "11. Selecciona el valor texto del `name` del segundo elemento `movie`"
   ]
  },
  {
   "cell_type": "raw",
   "metadata": {},
   "source": [
    "//movie[2]/name/text()"
   ]
  },
  {
   "cell_type": "code",
   "execution_count": null,
   "metadata": {},
   "outputs": [],
   "source": [
    "Antlers"
   ]
  },
  {
   "cell_type": "markdown",
   "metadata": {},
   "source": [
    "12. Selecciona el valor texto del nombre de la última película"
   ]
  },
  {
   "cell_type": "raw",
   "metadata": {},
   "source": [
    "//movie[last()]/name/text()"
   ]
  },
  {
   "cell_type": "code",
   "execution_count": null,
   "metadata": {},
   "outputs": [],
   "source": [
    "Karnan"
   ]
  },
  {
   "cell_type": "markdown",
   "metadata": {},
   "source": [
    "13. Seleccionad todos los elementos `movie` con la fecha de `release` '2021-10-29'"
   ]
  },
  {
   "cell_type": "code",
   "execution_count": null,
   "metadata": {},
   "outputs": [],
   "source": [
    "//movie[release=\"2021-10-29\"]"
   ]
  },
  {
   "cell_type": "code",
   "execution_count": null,
   "metadata": {},
   "outputs": [],
   "source": [
    "<movie out=\"yes\" id=\"m0002\">\n",
    "        <name lang=\"en\">Antlers</name>\n",
    "        <release>2021-10-29</release>\n",
    "        <country>USA</country>\n",
    "        <imdb>6.4</imdb>\n",
    "        <boxoffice>19 M. USD</boxoffice>\n",
    "        <cast>\n",
    "            <actor id=\"a0004\">\n",
    "                <name gender=\"male\">Jesse Plemons</name>\n",
    "                <age>33</age>\n",
    "            </actor>\n",
    "            <actor id=\"a0005\">\n",
    "                <name gender=\"female\">Keri Russell</name>\n",
    "                <age>45</age>\n",
    "            </actor>\n",
    "            <actor id=\"a0006\">\n",
    "                <name gender=\"male\">Jeremy T. Thomas</name>\n",
    "                <age>15</age>\n",
    "            </actor>\n",
    "        </cast>\n",
    "    </movie>\n",
    "<movie out=\"yes\" id=\"m0005\">\n",
    "        <name lang=\"en\">Army of Thieves</name>\n",
    "        <release>2021-10-29</release>\n",
    "        <country>USA</country>\n",
    "        <imdb>6.4</imdb>\n",
    "        <boxoffice>300 M. USD</boxoffice>\n",
    "        <cast>\n",
    "            <actor id=\"a0012\">\n",
    "                <name gender=\"male\">Matthias Schweighöfer</name>\n",
    "                <age>40</age>\n",
    "            </actor>\n",
    "            <actor id=\"a0013\">\n",
    "                <name gender=\"female\">Nathalie Emmanuel</name>\n",
    "                <age>32</age>\n",
    "            </actor>\n",
    "            <actor id=\"a0014\">\n",
    "                <name gender=\"female\">Ruby O. Fee</name>\n",
    "                <age>25</age>\n",
    "            </actor>\n",
    "        </cast>\n",
    "    </movie>"
   ]
  },
  {
   "cell_type": "markdown",
   "metadata": {},
   "source": [
    "14. Selecciona todas las `movies` con un `imdb` mayor o igual que 7.0"
   ]
  },
  {
   "cell_type": "raw",
   "metadata": {},
   "source": [
    "//movie[imdb>=\"7.0\"]"
   ]
  },
  {
   "cell_type": "code",
   "execution_count": null,
   "metadata": {
    "vscode": {
     "languageId": "xml"
    }
   },
   "outputs": [],
   "source": [
    "<movie out=\"yes\" id=\"m0001\">\n",
    "    <name lang=\"en\">Jungle Cruise</name>\n",
    "    <release>2021-07-02</release>\n",
    "    <country>USA</country>\n",
    "    <imdb>7.0</imdb>\n",
    "    <boxoffice>600 M. USD</boxoffice>\n",
    "    <cast>\n",
    "        <actor id=\"a0001\">\n",
    "            <name gender=\"male\">Dwayne Johnson</name>\n",
    "            <age>49</age>\n",
    "        </actor>\n",
    "        <actor id=\"a0002\">\n",
    "            <name gender=\"female\">Emily Blunt</name>\n",
    "            <age>38</age>\n",
    "        </actor>\n",
    "        <actor id=\"a0003\">\n",
    "            <name gender=\"male\">Jack Whitehall</name>\n",
    "            <age>33</age>\n",
    "        </actor>\n",
    "    </cast>\n",
    "</movie>\n",
    "<movie out=\"yes\" id=\"m0003\">\n",
    "    <name lang=\"en\">Spider Man No Way Home</name>\n",
    "    <release>2021-12-17</release>\n",
    "    <country>USA</country>\n",
    "    <imdb>8.8</imdb>\n",
    "    <boxoffice>1.5 B. USD</boxoffice>\n",
    "    <cast>\n",
    "        <actor id=\"a0007\">\n",
    "            <name gender=\"male\">Tom Holland</name>\n",
    "            <age>25</age>\n",
    "        </actor>\n",
    "        <actor id=\"a0008\">\n",
    "            <name gender=\"male\">Tobey Maguire</name>\n",
    "            <age>46</age>\n",
    "        </actor>\n",
    "        <actor id=\"a0009\">\n",
    "            <name gender=\"male\">Andrew Garfield</name>\n",
    "            <age>38</age>\n",
    "        </actor>\n",
    "    </cast>\n",
    "</movie>\n",
    "<movie out=\"yes\" id=\"m0006\">\n",
    "    <name lang=\"hi\">Shershaah</name>\n",
    "    <release>2021-08-12</release>\n",
    "    <country>India</country>\n",
    "    <imdb>8.7</imdb>\n",
    "    <boxoffice>30 M. USD</boxoffice>\n",
    "    <cast>\n",
    "        <actor id=\"a0015\">\n",
    "            <name gender=\"male\">Sidharth Malhotra</name>\n",
    "            <age>37</age>\n",
    "        </actor>\n",
    "        <actor id=\"a0016\">\n",
    "            <name gender=\"female\">Kiara Advani</name>\n",
    "            <age>29</age>\n",
    "        </actor>\n",
    "        <actor id=\"a0017\">\n",
    "            <name gender=\"female\">Shiv Panditt</name>\n",
    "            <age>37</age>\n",
    "        </actor>\n",
    "    </cast>\n",
    "</movie>\n",
    "<movie out=\"yes\" id=\"m0008\">\n",
    "    <name lang=\"ta\">Karnan</name>\n",
    "    <release>2021-04-09</release>\n",
    "    <country>India</country>\n",
    "    <imdb>8.2</imdb>\n",
    "    <boxoffice>14 M. USD</boxoffice>\n",
    "    <cast>\n",
    "        <actor id=\"a0021\">\n",
    "            <name gender=\"male\">Dhanush</name>\n",
    "            <age>38</age>\n",
    "        </actor>\n",
    "        <actor id=\"a0022\">\n",
    "            <name gender=\"female\">Rajisha Vijayan</name>\n",
    "            <age>30</age>\n",
    "        </actor>\n",
    "        <actor id=\"a0023\">\n",
    "            <name gender=\"male\">Yogi Babu</name>\n",
    "            <age>36</age>\n",
    "        </actor>\n",
    "    </cast>\n",
    "</movie>"
   ]
  },
  {
   "cell_type": "markdown",
   "metadata": {},
   "source": [
    "15. Selecciona el atributo `id` del actor que son hijos directos de `cast`"
   ]
  },
  {
   "cell_type": "raw",
   "metadata": {},
   "source": [
    "//cast/actor/@id"
   ]
  },
  {
   "cell_type": "code",
   "execution_count": null,
   "metadata": {
    "vscode": {
     "languageId": "xml"
    }
   },
   "outputs": [],
   "source": [
    "id=\"a0001\"\n",
    "id=\"a0002\"\n",
    "id=\"a0003\"\n",
    "id=\"a0004\"\n",
    "id=\"a0005\"\n",
    "id=\"a0006\"\n",
    "id=\"a0007\"\n",
    "id=\"a0008\"\n",
    "id=\"a0009\"\n",
    "id=\"a0001\"\n",
    "id=\"a0010\"\n",
    "id=\"a0011\"\n",
    "id=\"a0012\"\n",
    "id=\"a0013\"\n",
    "id=\"a0014\"\n",
    "id=\"a0015\"\n",
    "id=\"a0016\"\n",
    "id=\"a0017\"\n",
    "id=\"a0018\"\n",
    "id=\"a0019\"\n",
    "id=\"a0020\"\n",
    "id=\"a0021\"\n",
    "id=\"a0022\"\n",
    "id=\"a0023\""
   ]
  },
  {
   "cell_type": "markdown",
   "metadata": {},
   "source": [
    "15. Seleciona todas las peliculas que tenga un atributo `id`"
   ]
  },
  {
   "cell_type": "raw",
   "metadata": {},
   "source": [
    "//movie[@id]"
   ]
  },
  {
   "cell_type": "code",
   "execution_count": null,
   "metadata": {
    "vscode": {
     "languageId": "xml"
    }
   },
   "outputs": [],
   "source": [
    "<movie out=\"yes\" id=\"m0001\">\n",
    "    <name lang=\"en\">Jungle Cruise</name>\n",
    "    <release>2021-07-02</release>\n",
    "    <country>USA</country>\n",
    "    <imdb>7.0</imdb>\n",
    "    <boxoffice>600 M. USD</boxoffice>\n",
    "    <cast>\n",
    "        <actor id=\"a0001\">\n",
    "            <name gender=\"male\">Dwayne Johnson</name>\n",
    "            <age>49</age>\n",
    "        </actor>\n",
    "        <actor id=\"a0002\">\n",
    "            <name gender=\"female\">Emily Blunt</name>\n",
    "            <age>38</age>\n",
    "        </actor>\n",
    "        <actor id=\"a0003\">\n",
    "            <name gender=\"male\">Jack Whitehall</name>\n",
    "            <age>33</age>\n",
    "        </actor>\n",
    "    </cast>\n",
    "</movie>\n",
    "<movie out=\"yes\" id=\"m0002\">\n",
    "    <name lang=\"en\">Antlers</name>\n",
    "    <release>2021-10-29</release>\n",
    "    <country>USA</country>\n",
    "    <imdb>6.4</imdb>\n",
    "    <boxoffice>19 M. USD</boxoffice>\n",
    "    <cast>\n",
    "        <actor id=\"a0004\">\n",
    "            <name gender=\"male\">Jesse Plemons</name>\n",
    "            <age>33</age>\n",
    "        </actor>\n",
    "        <actor id=\"a0005\">\n",
    "            <name gender=\"female\">Keri Russell</name>\n",
    "            <age>45</age>\n",
    "        </actor>\n",
    "        <actor id=\"a0006\">\n",
    "            <name gender=\"male\">Jeremy T. Thomas</name>\n",
    "            <age>15</age>\n",
    "        </actor>\n",
    "    </cast>\n",
    "</movie>\n",
    "<movie out=\"yes\" id=\"m0003\">\n",
    "    <name lang=\"en\">Spider Man No Way Home</name>\n",
    "    <release>2021-12-17</release>\n",
    "    <country>USA</country>\n",
    "    <imdb>8.8</imdb>\n",
    "    <boxoffice>1.5 B. USD</boxoffice>\n",
    "    <cast>\n",
    "        <actor id=\"a0007\">\n",
    "            <name gender=\"male\">Tom Holland</name>\n",
    "            <age>25</age>\n",
    "        </actor>\n",
    "        <actor id=\"a0008\">\n",
    "            <name gender=\"male\">Tobey Maguire</name>\n",
    "            <age>46</age>\n",
    "        </actor>\n",
    "        <actor id=\"a0009\">\n",
    "            <name gender=\"male\">Andrew Garfield</name>\n",
    "            <age>38</age>\n",
    "        </actor>\n",
    "    </cast>\n",
    "</movie>\n",
    "<movie out=\"yes\" id=\"m0004\">\n",
    "    <name lang=\"en\">Red Notice</name>\n",
    "    <release>2021-11-05</release>\n",
    "    <country>USA</country>\n",
    "    <imdb>6.3</imdb>\n",
    "    <boxoffice>450 M. USD</boxoffice>\n",
    "    <cast>\n",
    "        <actor id=\"a0001\">\n",
    "            <name gender=\"male\">Dwayne Johnson</name>\n",
    "            <age>49</age>\n",
    "        </actor>\n",
    "        <actor id=\"a0010\">\n",
    "            <name gender=\"male\">Ryan Reynolds</name>\n",
    "            <age>45</age>\n",
    "        </actor>\n",
    "        <actor id=\"a0011\">\n",
    "            <name gender=\"female\">Gal Gadot</name>\n",
    "            <age>36</age>\n",
    "        </actor>\n",
    "    </cast>\n",
    "</movie>\n",
    "<movie out=\"yes\" id=\"m0005\">\n",
    "    <name lang=\"en\">Army of Thieves</name>\n",
    "    <release>2021-10-29</release>\n",
    "    <country>USA</country>\n",
    "    <imdb>6.4</imdb>\n",
    "    <boxoffice>300 M. USD</boxoffice>\n",
    "    <cast>\n",
    "        <actor id=\"a0012\">\n",
    "            <name gender=\"male\">Matthias Schweighöfer</name>\n",
    "            <age>40</age>\n",
    "        </actor>\n",
    "        <actor id=\"a0013\">\n",
    "            <name gender=\"female\">Nathalie Emmanuel</name>\n",
    "            <age>32</age>\n",
    "        </actor>\n",
    "        <actor id=\"a0014\">\n",
    "            <name gender=\"female\">Ruby O. Fee</name>\n",
    "            <age>25</age>\n",
    "        </actor>\n",
    "    </cast>\n",
    "</movie>\n",
    "<movie out=\"yes\" id=\"m0006\">\n",
    "    <name lang=\"hi\">Shershaah</name>\n",
    "    <release>2021-08-12</release>\n",
    "    <country>India</country>\n",
    "    <imdb>8.7</imdb>\n",
    "    <boxoffice>30 M. USD</boxoffice>\n",
    "    <cast>\n",
    "        <actor id=\"a0015\">\n",
    "            <name gender=\"male\">Sidharth Malhotra</name>\n",
    "            <age>37</age>\n",
    "        </actor>\n",
    "        <actor id=\"a0016\">\n",
    "            <name gender=\"female\">Kiara Advani</name>\n",
    "            <age>29</age>\n",
    "        </actor>\n",
    "        <actor id=\"a0017\">\n",
    "            <name gender=\"female\">Shiv Panditt</name>\n",
    "            <age>37</age>\n",
    "        </actor>\n",
    "    </cast>\n",
    "</movie>\n",
    "<movie out=\"yes\" id=\"m0007\">\n",
    "    <name lang=\"hi\">Roohi</name>\n",
    "    <release>2021-03-11</release>\n",
    "    <country>India</country>\n",
    "    <imdb>4.3</imdb>\n",
    "    <boxoffice>15 M. USD</boxoffice>\n",
    "    <cast>\n",
    "        <actor id=\"a0018\">\n",
    "            <name gender=\"male\">Rajkummar Rao</name>\n",
    "            <age>37</age>\n",
    "        </actor>\n",
    "        <actor id=\"a0019\">\n",
    "            <name gender=\"female\">Janhvi Kapoor</name>\n",
    "            <age>24</age>\n",
    "        </actor>\n",
    "        <actor id=\"a0020\">\n",
    "            <name gender=\"male\">Varun Sharma</name>\n",
    "            <age>31</age>\n",
    "        </actor>\n",
    "    </cast>\n",
    "</movie>\n",
    "<movie out=\"yes\" id=\"m0008\">\n",
    "    <name lang=\"ta\">Karnan</name>\n",
    "    <release>2021-04-09</release>\n",
    "    <country>India</country>\n",
    "    <imdb>8.2</imdb>\n",
    "    <boxoffice>14 M. USD</boxoffice>\n",
    "    <cast>\n",
    "        <actor id=\"a0021\">\n",
    "            <name gender=\"male\">Dhanush</name>\n",
    "            <age>38</age>\n",
    "        </actor>\n",
    "        <actor id=\"a0022\">\n",
    "            <name gender=\"female\">Rajisha Vijayan</name>\n",
    "            <age>30</age>\n",
    "        </actor>\n",
    "        <actor id=\"a0023\">\n",
    "            <name gender=\"male\">Yogi Babu</name>\n",
    "            <age>36</age>\n",
    "        </actor>\n",
    "    </cast>\n",
    "</movie>"
   ]
  },
  {
   "cell_type": "markdown",
   "metadata": {},
   "source": [
    "16. Selecciona todos los elementos `name` que tengan un atributo `lang` con un valor de `en`"
   ]
  },
  {
   "cell_type": "raw",
   "metadata": {},
   "source": [
    "//name[@lang=\"en\"]"
   ]
  },
  {
   "cell_type": "code",
   "execution_count": null,
   "metadata": {
    "vscode": {
     "languageId": "xml"
    }
   },
   "outputs": [],
   "source": [
    "<name lang=\"en\">Jungle Cruise</name>\n",
    "<name lang=\"en\">Antlers</name>\n",
    "<name lang=\"en\">Spider Man No Way Home</name>\n",
    "<name lang=\"en\">Red Notice</name>\n",
    "<name lang=\"en\">Army of Thieves</name>"
   ]
  },
  {
   "cell_type": "markdown",
   "metadata": {},
   "source": [
    "17. Selecciona el valor texto del elemento `name` de todos los elementos `actor` que tenga un atributo geneero de valor `female`"
   ]
  },
  {
   "cell_type": "raw",
   "metadata": {},
   "source": [
    "//name[@gender=\"female\"]"
   ]
  },
  {
   "cell_type": "code",
   "execution_count": null,
   "metadata": {
    "vscode": {
     "languageId": "xml"
    }
   },
   "outputs": [],
   "source": [
    "<name gender=\"female\">Emily Blunt</name>\n",
    "<name gender=\"female\">Keri Russell</name>\n",
    "<name gender=\"female\">Gal Gadot</name>\n",
    "<name gender=\"female\">Nathalie Emmanuel</name>\n",
    "<name gender=\"female\">Ruby O. Fee</name>\n",
    "<name gender=\"female\">Kiara Advani</name>\n",
    "<name gender=\"female\">Shiv Panditt</name>\n",
    "<name gender=\"female\">Janhvi Kapoor</name>\n",
    "<name gender=\"female\">Rajisha Vijayan</name>"
   ]
  },
  {
   "cell_type": "markdown",
   "metadata": {},
   "source": [
    "17. Selecciona todos los elementos`boxoffice` y todos los elementos `imdb`"
   ]
  },
  {
   "cell_type": "raw",
   "metadata": {},
   "source": [
    "//imdb|//boxoffice"
   ]
  },
  {
   "cell_type": "code",
   "execution_count": null,
   "metadata": {
    "vscode": {
     "languageId": "xml"
    }
   },
   "outputs": [],
   "source": [
    "<imdb>7.0</imdb>\n",
    "<boxoffice>600 M. USD</boxoffice>\n",
    "<imdb>6.4</imdb>\n",
    "<boxoffice>19 M. USD</boxoffice>\n",
    "<imdb>8.8</imdb>\n",
    "<boxoffice>1.5 B. USD</boxoffice>\n",
    "<imdb>6.3</imdb>\n",
    "<boxoffice>450 M. USD</boxoffice>\n",
    "<imdb>6.4</imdb>\n",
    "<boxoffice>300 M. USD</boxoffice>\n",
    "<imdb>8.7</imdb>\n",
    "<boxoffice>30 M. USD</boxoffice>\n",
    "<imdb>4.3</imdb>\n",
    "<boxoffice>15 M. USD</boxoffice>\n",
    "<imdb>8.2</imdb>\n",
    "<boxoffice>14 M. USD</boxoffice>"
   ]
  },
  {
   "cell_type": "markdown",
   "metadata": {},
   "source": [
    "18. Selecciona el nombre del segundo elemento de la primera `movie`"
   ]
  },
  {
   "cell_type": "raw",
   "metadata": {},
   "source": [
    "//movie[1]/*[2]"
   ]
  },
  {
   "cell_type": "code",
   "execution_count": null,
   "metadata": {
    "vscode": {
     "languageId": "xml"
    }
   },
   "outputs": [],
   "source": [
    "<release>2021-07-02</release>"
   ]
  },
  {
   "cell_type": "markdown",
   "metadata": {},
   "source": [
    "19. Selecciona el valor numerico de `imdb` del último elemento `movie`"
   ]
  },
  {
   "cell_type": "raw",
   "metadata": {},
   "source": [
    "//movie[last()]/imdb/text()"
   ]
  },
  {
   "cell_type": "code",
   "execution_count": null,
   "metadata": {
    "vscode": {
     "languageId": "xml"
    }
   },
   "outputs": [],
   "source": [
    "8.2"
   ]
  },
  {
   "cell_type": "markdown",
   "metadata": {},
   "source": [
    "20. Selecciona y convierte a string el valor del elemento `country` del elemento `movie` con un valor de `imdb` igual a 4.3\t"
   ]
  },
  {
   "cell_type": "raw",
   "metadata": {},
   "source": [
    "//movie[imdb=4.3]/country/text()"
   ]
  },
  {
   "cell_type": "code",
   "execution_count": null,
   "metadata": {
    "vscode": {
     "languageId": "xml"
    }
   },
   "outputs": [],
   "source": [
    "India"
   ]
  },
  {
   "cell_type": "markdown",
   "metadata": {},
   "source": [
    "21. Selecciona el número de elementos `movie`"
   ]
  },
  {
   "cell_type": "raw",
   "metadata": {},
   "source": [
    "count(//movie)"
   ]
  },
  {
   "cell_type": "code",
   "execution_count": null,
   "metadata": {
    "vscode": {
     "languageId": "xml"
    }
   },
   "outputs": [],
   "source": [
    "8"
   ]
  },
  {
   "cell_type": "markdown",
   "metadata": {},
   "source": [
    "22. Selecciona la suma de la edad de todos los actores de la segunda película"
   ]
  },
  {
   "cell_type": "raw",
   "metadata": {},
   "source": [
    "sum(//movie[2]/cast/actor/age/text())"
   ]
  },
  {
   "cell_type": "code",
   "execution_count": null,
   "metadata": {
    "vscode": {
     "languageId": "xml"
    }
   },
   "outputs": [],
   "source": [
    "93"
   ]
  }
 ],
 "metadata": {
  "kernelspec": {
   "display_name": "Python 3",
   "language": "python",
   "name": "python3"
  },
  "language_info": {
   "codemirror_mode": {
    "name": "ipython",
    "version": 3
   },
   "file_extension": ".py",
   "mimetype": "text/x-python",
   "name": "python",
   "nbconvert_exporter": "python",
   "pygments_lexer": "ipython3",
   "version": "3.9.13"
  }
 },
 "nbformat": 4,
 "nbformat_minor": 2
}
